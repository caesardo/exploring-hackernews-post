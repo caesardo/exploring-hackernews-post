{
 "cells": [
  {
   "cell_type": "markdown",
   "metadata": {},
   "source": [
    "# Exploring Hacker News Post\n",
    "---\n",
    "In this project we are exploring datest containing sampled 20k+ hacker news post.  It has been reduced from almost 300,000 rows to approximately 20,000 rows by removing all submissions that did not receive any comments, and then randomly sampling from the remaining submissions. The dataset can be found on [Kaggle](https://www.kaggle.com/hacker-news/hacker-news-posts)"
   ]
  },
  {
   "cell_type": "markdown",
   "metadata": {},
   "source": [
    "Define function `explore_data` to display data in a more readable manner:"
   ]
  },
  {
   "cell_type": "code",
   "execution_count": 2,
   "metadata": {},
   "outputs": [],
   "source": [
    "def explore_data(dataset, start=0, end=1, rows_and_columns=False):\n",
    "    dataset_slice = dataset[start:end]    \n",
    "    for row in dataset_slice:\n",
    "        print(row)\n",
    "        print('\\n') # adds a new (empty) line after each row\n",
    "\n",
    "    if rows_and_columns:\n",
    "        print('Number of rows:', len(dataset))\n",
    "        print('Number of columns:', len(dataset[0]))"
   ]
  },
  {
   "cell_type": "markdown",
   "metadata": {},
   "source": [
    "Load the dataset and store it in `hn`:"
   ]
  },
  {
   "cell_type": "code",
   "execution_count": 3,
   "metadata": {},
   "outputs": [
    {
     "output_type": "stream",
     "name": "stdout",
     "text": "['id', 'title', 'url', 'num_points', 'num_comments', 'author', 'created_at']\n\n\n['12579008', 'You have two days to comment if you want stem cells to be classified as your own', 'http://www.regulations.gov/document?D=FDA-2015-D-3719-0018', '1', '0', 'altstar', '9/26/2016 3:26']\n\n\n['12579005', 'SQLAR  the SQLite Archiver', 'https://www.sqlite.org/sqlar/doc/trunk/README.md', '1', '0', 'blacksqr', '9/26/2016 3:24']\n\n\n['12578997', 'What if we just printed a flatscreen television on the side of our boxes?', 'https://medium.com/vanmoof/our-secrets-out-f21c1f03fdc8#.ietxmez43', '1', '0', 'pavel_lishin', '9/26/2016 3:19']\n\n\n['12578989', 'algorithmic music', 'http://cacm.acm.org/magazines/2011/7/109891-algorithmic-composition/fulltext', '1', '0', 'poindontcare', '9/26/2016 3:16']\n\n\n['12578979', 'How the Data Vault Enables the Next-Gen Data Warehouse and Data Lake', 'https://www.talend.com/blog/2016/05/12/talend-and-Â\\x93the-data-vaultÂ\\x94', '1', '0', 'markgainor1', '9/26/2016 3:14']\n\n\nNumber of rows: 293119\nNumber of columns: 7\n"
    }
   ],
   "source": [
    "from csv import reader\n",
    "\n",
    "opened_file = open(\"datasets/HN_posts_year_to_Sep_26_2016.csv\", encoding=\"utf8\")\n",
    "read_file = reader(opened_file)\n",
    "hn = list(read_file)\n",
    "#separete header row\n",
    "header = hn[:1]\n",
    "hn = hn[1:]\n",
    "explore_data(header)\n",
    "explore_data(hn, 0, 5, True)"
   ]
  },
  {
   "cell_type": "markdown",
   "metadata": {},
   "source": [
    "Since we're only concerned with post titles beginning with Ask HN or Show HN, we'll create new lists of lists containing just the data for those titles"
   ]
  },
  {
   "cell_type": "code",
   "execution_count": 4,
   "metadata": {},
   "outputs": [
    {
     "output_type": "stream",
     "name": "stdout",
     "text": "Number of Ask HN Posts: 9139\nNumber of Show HN Posts: 10158\nNumber of Other Posts: 273822\n"
    }
   ],
   "source": [
    "ask_posts = []\n",
    "show_posts = []\n",
    "other_posts = []\n",
    "\n",
    "for row in hn:\n",
    "    title = row[1].lower()\n",
    "    if title.startswith('ask hn'):\n",
    "        ask_posts.append(row)\n",
    "    elif title.startswith('show hn'):\n",
    "        show_posts.append(row)\n",
    "    else:\n",
    "        other_posts.append(row)\n",
    "print('Number of Ask HN Posts: ' + str(len(ask_posts)))\n",
    "print('Number of Show HN Posts: ' + str(len(show_posts)))\n",
    "print('Number of Other Posts: ' + str(len(other_posts)))"
   ]
  },
  {
   "cell_type": "markdown",
   "metadata": {},
   "source": [
    "Examine first 5 rows of `ask_posts` and `show_posts` lists:"
   ]
  },
  {
   "cell_type": "code",
   "execution_count": 5,
   "metadata": {},
   "outputs": [
    {
     "output_type": "stream",
     "name": "stdout",
     "text": "['12578908', 'Ask HN: What TLD do you use for local development?', '', '4', '7', 'Sevrene', '9/26/2016 2:53']\n\n\n['12578522', 'Ask HN: How do you pass on your work when you die?', '', '6', '3', 'PascLeRasc', '9/26/2016 1:17']\n\n\n['12577908', 'Ask HN: How a DNS problem can be limited to a geographic region?', '', '1', '0', 'kuon', '9/25/2016 22:57']\n\n\n['12577870', 'Ask HN: Why join a fund when you can be an angel?', '', '1', '3', 'anthony_james', '9/25/2016 22:48']\n\n\n['12577647', 'Ask HN: Someone uses stock trading as passive income?', '', '5', '2', '00taffe', '9/25/2016 21:50']\n\n\n"
    }
   ],
   "source": [
    "explore_data(ask_posts, 0, 5)"
   ]
  },
  {
   "cell_type": "code",
   "execution_count": 6,
   "metadata": {},
   "outputs": [
    {
     "output_type": "stream",
     "name": "stdout",
     "text": "['12578335', 'Show HN: Finding puns computationally', 'http://puns.samueltaylor.org/', '2', '0', 'saamm', '9/26/2016 0:36']\n\n\n['12578182', 'Show HN: A simple library for complicated animations', 'https://christinecha.github.io/choreographer-js/', '1', '0', 'christinecha', '9/26/2016 0:01']\n\n\n['12578098', 'Show HN: WebGL visualization of DNA sequences', 'http://grondilu.github.io/dna.html', '1', '0', 'grondilu', '9/25/2016 23:44']\n\n\n['12577991', 'Show HN: Pomodoro-centric, heirarchical project management with ES6 modules', 'https://github.com/jakebian/zeal', '2', '0', 'dbranes', '9/25/2016 23:17']\n\n\n['12577142', 'Show HN: Jumble  Essays on the go #PaulInYourPocket', 'https://itunes.apple.com/us/app/jumble-find-startup-essay/id1150939197?ls=1&mt=8', '1', '1', 'ryderj', '9/25/2016 20:06']\n\n\n"
    }
   ],
   "source": [
    "explore_data(show_posts, 0, 5)"
   ]
  },
  {
   "cell_type": "markdown",
   "metadata": {},
   "source": [
    "Finding total comments and average number of comments for each `ask_posts` and `show_posts`"
   ]
  },
  {
   "cell_type": "code",
   "execution_count": 7,
   "metadata": {},
   "outputs": [
    {
     "output_type": "stream",
     "name": "stdout",
     "text": "Average comments on Ask HN Posts: 10.393\nAverage comments on Show HN Posts: 4.886\n"
    }
   ],
   "source": [
    "total_ask_comments = 0\n",
    "for post in ask_posts:\n",
    "    num_comments = int(post[4])\n",
    "    total_ask_comments += num_comments\n",
    "avg_ask_comments = total_ask_comments / len(ask_posts)\n",
    "\n",
    "total_show_comments = 0\n",
    "for post in show_posts:\n",
    "    num_comments = int(post[4])\n",
    "    total_show_comments += num_comments\n",
    "avg_show_comments = total_show_comments / len(show_posts)\n",
    "\n",
    "print(\"Average comments on Ask HN Posts: \" + str(round(avg_ask_comments, 3)))\n",
    "print(\"Average comments on Show HN Posts: \" + str( round(avg_show_comments, 3)))\n"
   ]
  },
  {
   "cell_type": "markdown",
   "metadata": {},
   "source": [
    "From above, we can conclude that on average an Ask HN Post will receive more comments than a Show HN Post. From here on, we will focus our analysis more on the Ask HN Posts."
   ]
  },
  {
   "cell_type": "markdown",
   "metadata": {},
   "source": [
    "Next, we'll determine if ask posts created at a certain time are more likely to attract comments. We'll use the following steps to perform this analysis:\n",
    "- Calculate the amount of ask posts created in each hour of the day, along with the number of comments received.\n",
    "- Calculate the average number of comments ask posts receive by hour created.\n"
   ]
  },
  {
   "cell_type": "markdown",
   "metadata": {},
   "source": [
    "First Step: Calculate the amount of ask posts created in each hour of the day, along with the number of comments received."
   ]
  },
  {
   "cell_type": "code",
   "execution_count": 8,
   "metadata": {},
   "outputs": [],
   "source": [
    "import datetime as dt"
   ]
  },
  {
   "cell_type": "code",
   "execution_count": 13,
   "metadata": {},
   "outputs": [],
   "source": [
    "result_list = []\n",
    "for post in ask_posts:\n",
    "    created_at = post[6]\n",
    "    created_at = dt.datetime.strptime(created_at, \"%m/%d/%Y %H:%M\")\n",
    "    num_comments = int(post[4])\n",
    "    result_list.append([created_at, num_comments])\n",
    "\n",
    "counts_by_hour = {}\n",
    "comments_by_hour = {}\n",
    "\n",
    "for obs in result_list:\n",
    "    dt_hour = obs[0]\n",
    "    num_comments = obs[1]\n",
    "    hour = dt_hour.strftime(\"%H\")\n",
    "    \n",
    "    if hour in counts_by_hour:\n",
    "        counts_by_hour[hour] += 1\n",
    "        comments_by_hour[hour] += num_comments\n",
    "    else:\n",
    "        counts_by_hour[hour] = 1\n",
    "        comments_by_hour[hour] = num_comments"
   ]
  },
  {
   "cell_type": "markdown",
   "metadata": {},
   "source": [
    "`counts_by_hour`:  contains the number of ask posts created during each hour of the day\n"
   ]
  },
  {
   "cell_type": "code",
   "execution_count": 10,
   "metadata": {},
   "outputs": [
    {
     "output_type": "execute_result",
     "data": {
      "text/plain": "{'02': 269,\n '01': 282,\n '22': 383,\n '21': 518,\n '19': 552,\n '17': 587,\n '15': 646,\n '14': 513,\n '13': 444,\n '11': 312,\n '10': 282,\n '09': 222,\n '07': 226,\n '03': 271,\n '23': 343,\n '20': 510,\n '16': 579,\n '08': 257,\n '00': 301,\n '18': 614,\n '12': 342,\n '04': 243,\n '06': 234,\n '05': 209}"
     },
     "metadata": {},
     "execution_count": 10
    }
   ],
   "source": [
    "counts_by_hour"
   ]
  },
  {
   "cell_type": "markdown",
   "metadata": {},
   "source": [
    "`comments_by_hour`: contains the corresponding number of comments ask posts created at each hour received"
   ]
  },
  {
   "cell_type": "code",
   "execution_count": 11,
   "metadata": {},
   "outputs": [
    {
     "output_type": "execute_result",
     "data": {
      "text/plain": "{'02': 2996,\n '01': 2089,\n '22': 3372,\n '21': 4500,\n '19': 3954,\n '17': 5547,\n '15': 18525,\n '14': 4972,\n '13': 7245,\n '11': 2797,\n '10': 3013,\n '09': 1477,\n '07': 1585,\n '03': 2154,\n '23': 2297,\n '20': 4462,\n '16': 4466,\n '08': 2362,\n '00': 2277,\n '18': 4877,\n '12': 4234,\n '04': 2360,\n '06': 1587,\n '05': 1838}"
     },
     "metadata": {},
     "execution_count": 11
    }
   ],
   "source": [
    "comments_by_hour"
   ]
  },
  {
   "cell_type": "code",
   "execution_count": 16,
   "metadata": {},
   "outputs": [
    {
     "output_type": "execute_result",
     "data": {
      "text/plain": "[['02', 11.137546468401487],\n ['01', 7.407801418439717],\n ['22', 8.804177545691905],\n ['21', 8.687258687258687],\n ['19', 7.163043478260869],\n ['17', 9.449744463373083],\n ['15', 28.676470588235293],\n ['14', 9.692007797270955],\n ['13', 16.31756756756757],\n ['11', 8.96474358974359],\n ['10', 10.684397163120567],\n ['09', 6.653153153153153],\n ['07', 7.013274336283186],\n ['03', 7.948339483394834],\n ['23', 6.696793002915452],\n ['20', 8.749019607843136],\n ['16', 7.713298791018998],\n ['08', 9.190661478599221],\n ['00', 7.5647840531561465],\n ['18', 7.94299674267101],\n ['12', 12.380116959064328],\n ['04', 9.7119341563786],\n ['06', 6.782051282051282],\n ['05', 8.794258373205741]]"
     },
     "metadata": {},
     "execution_count": 16
    }
   ],
   "source": [
    "avg_by_hour = []\n",
    "for hour in counts_by_hour:\n",
    "    avg = comments_by_hour[hour] / counts_by_hour[hour]\n",
    "    avg_by_hour.append([hour, avg])\n",
    "\n",
    "avg_by_hour"
   ]
  },
  {
   "cell_type": "markdown",
   "metadata": {},
   "source": [
    "Sort our `avg_by_hour` dictionary:"
   ]
  },
  {
   "cell_type": "code",
   "execution_count": 18,
   "metadata": {},
   "outputs": [
    {
     "output_type": "execute_result",
     "data": {
      "text/plain": "[[11.137546468401487, '02'],\n [7.407801418439717, '01'],\n [8.804177545691905, '22'],\n [8.687258687258687, '21'],\n [7.163043478260869, '19'],\n [9.449744463373083, '17'],\n [28.676470588235293, '15'],\n [9.692007797270955, '14'],\n [16.31756756756757, '13'],\n [8.96474358974359, '11'],\n [10.684397163120567, '10'],\n [6.653153153153153, '09'],\n [7.013274336283186, '07'],\n [7.948339483394834, '03'],\n [6.696793002915452, '23'],\n [8.749019607843136, '20'],\n [7.713298791018998, '16'],\n [9.190661478599221, '08'],\n [7.5647840531561465, '00'],\n [7.94299674267101, '18'],\n [12.380116959064328, '12'],\n [9.7119341563786, '04'],\n [6.782051282051282, '06'],\n [8.794258373205741, '05']]"
     },
     "metadata": {},
     "execution_count": 18
    }
   ],
   "source": [
    "swap_avg_by_hour = []\n",
    "for item in avg_by_hour:\n",
    "    swap_avg_by_hour.append([item[1],item[0]]) #swap between the key & value\n",
    "\n",
    "swap_avg_by_hour"
   ]
  },
  {
   "cell_type": "code",
   "execution_count": 23,
   "metadata": {},
   "outputs": [
    {
     "output_type": "execute_result",
     "data": {
      "text/plain": "[[28.676470588235293, '15'],\n [16.31756756756757, '13'],\n [12.380116959064328, '12'],\n [11.137546468401487, '02'],\n [10.684397163120567, '10'],\n [9.7119341563786, '04'],\n [9.692007797270955, '14'],\n [9.449744463373083, '17'],\n [9.190661478599221, '08'],\n [8.96474358974359, '11'],\n [8.804177545691905, '22'],\n [8.794258373205741, '05'],\n [8.749019607843136, '20'],\n [8.687258687258687, '21'],\n [7.948339483394834, '03'],\n [7.94299674267101, '18'],\n [7.713298791018998, '16'],\n [7.5647840531561465, '00'],\n [7.407801418439717, '01'],\n [7.163043478260869, '19'],\n [7.013274336283186, '07'],\n [6.782051282051282, '06'],\n [6.696793002915452, '23'],\n [6.653153153153153, '09']]"
     },
     "metadata": {},
     "execution_count": 23
    }
   ],
   "source": [
    "sorted_swap = sorted(swap_avg_by_hour, reverse=True)\n",
    "\n",
    "sorted_swap"
   ]
  },
  {
   "cell_type": "markdown",
   "metadata": {},
   "source": [
    "### The Top 5 Hours for Ask HN Post Comments:\n",
    "---"
   ]
  },
  {
   "cell_type": "code",
   "execution_count": 28,
   "metadata": {},
   "outputs": [
    {
     "output_type": "stream",
     "name": "stdout",
     "text": "15:00: 28.68 average comments per post\n13:00: 16.32 average comments per post\n12:00: 12.38 average comments per post\n02:00: 11.14 average comments per post\n10:00: 10.68 average comments per post\n04:00: 9.71 average comments per post\n"
    }
   ],
   "source": [
    "for item in sorted_swap[:6]:\n",
    "    fmt = \"{0}:00: {1:.2f} average comments per post\"\n",
    "    hour = item[1]\n",
    "    avg_comments = item[0]\n",
    "    print(fmt.format(hour,avg_comments))"
   ]
  },
  {
   "cell_type": "markdown",
   "metadata": {},
   "source": [
    "From above, to get post with the highest average number of comments, we should post at 3pm, 1pm, 12pm, 2am, 10am amd 4am"
   ]
  }
 ],
 "metadata": {
  "language_info": {
   "codemirror_mode": {
    "name": "ipython",
    "version": 3
   },
   "file_extension": ".py",
   "mimetype": "text/x-python",
   "name": "python",
   "nbconvert_exporter": "python",
   "pygments_lexer": "ipython3",
   "version": "3.7.6-final"
  },
  "orig_nbformat": 2,
  "kernelspec": {
   "name": "python3",
   "display_name": "Python 3"
  }
 },
 "nbformat": 4,
 "nbformat_minor": 2
}